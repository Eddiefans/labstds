{
 "cells": [
  {
   "cell_type": "markdown",
   "id": "7870d949",
   "metadata": {},
   "source": [
    "# **Bootstrap**"
   ]
  },
  {
   "cell_type": "markdown",
   "id": "05a4fa15",
   "metadata": {},
   "source": [
    "|                |   |\n",
    ":----------------|---|\n",
    "| **Name**     | Eddie Aguilar  |\n",
    "| **Date**      | 04/10/2025  |\n",
    "| **ID** | 739352  | "
   ]
  },
  {
   "cell_type": "markdown",
   "id": "215b419d",
   "metadata": {},
   "source": [
    "## Normal linear regression"
   ]
  },
  {
   "cell_type": "code",
   "execution_count": 59,
   "id": "c858d918",
   "metadata": {},
   "outputs": [
    {
     "data": {
      "text/html": [
       "<div>\n",
       "<style scoped>\n",
       "    .dataframe tbody tr th:only-of-type {\n",
       "        vertical-align: middle;\n",
       "    }\n",
       "\n",
       "    .dataframe tbody tr th {\n",
       "        vertical-align: top;\n",
       "    }\n",
       "\n",
       "    .dataframe thead th {\n",
       "        text-align: right;\n",
       "    }\n",
       "</style>\n",
       "<table border=\"1\" class=\"dataframe\">\n",
       "  <thead>\n",
       "    <tr style=\"text-align: right;\">\n",
       "      <th></th>\n",
       "      <th>model</th>\n",
       "      <th>mpg</th>\n",
       "      <th>cyl</th>\n",
       "      <th>disp</th>\n",
       "      <th>hp</th>\n",
       "      <th>drat</th>\n",
       "      <th>wt</th>\n",
       "      <th>qsec</th>\n",
       "      <th>vs</th>\n",
       "      <th>am</th>\n",
       "      <th>gear</th>\n",
       "      <th>carb</th>\n",
       "    </tr>\n",
       "  </thead>\n",
       "  <tbody>\n",
       "    <tr>\n",
       "      <th>0</th>\n",
       "      <td>Mazda RX4</td>\n",
       "      <td>21.0</td>\n",
       "      <td>6</td>\n",
       "      <td>160.0</td>\n",
       "      <td>110</td>\n",
       "      <td>3.90</td>\n",
       "      <td>2.620</td>\n",
       "      <td>16.46</td>\n",
       "      <td>0</td>\n",
       "      <td>1</td>\n",
       "      <td>4</td>\n",
       "      <td>4</td>\n",
       "    </tr>\n",
       "    <tr>\n",
       "      <th>1</th>\n",
       "      <td>Mazda RX4 Wag</td>\n",
       "      <td>21.0</td>\n",
       "      <td>6</td>\n",
       "      <td>160.0</td>\n",
       "      <td>110</td>\n",
       "      <td>3.90</td>\n",
       "      <td>2.875</td>\n",
       "      <td>17.02</td>\n",
       "      <td>0</td>\n",
       "      <td>1</td>\n",
       "      <td>4</td>\n",
       "      <td>4</td>\n",
       "    </tr>\n",
       "    <tr>\n",
       "      <th>2</th>\n",
       "      <td>Datsun 710</td>\n",
       "      <td>22.8</td>\n",
       "      <td>4</td>\n",
       "      <td>108.0</td>\n",
       "      <td>93</td>\n",
       "      <td>3.85</td>\n",
       "      <td>2.320</td>\n",
       "      <td>18.61</td>\n",
       "      <td>1</td>\n",
       "      <td>1</td>\n",
       "      <td>4</td>\n",
       "      <td>1</td>\n",
       "    </tr>\n",
       "    <tr>\n",
       "      <th>3</th>\n",
       "      <td>Hornet 4 Drive</td>\n",
       "      <td>21.4</td>\n",
       "      <td>6</td>\n",
       "      <td>258.0</td>\n",
       "      <td>110</td>\n",
       "      <td>3.08</td>\n",
       "      <td>3.215</td>\n",
       "      <td>19.44</td>\n",
       "      <td>1</td>\n",
       "      <td>0</td>\n",
       "      <td>3</td>\n",
       "      <td>1</td>\n",
       "    </tr>\n",
       "    <tr>\n",
       "      <th>4</th>\n",
       "      <td>Hornet Sportabout</td>\n",
       "      <td>18.7</td>\n",
       "      <td>8</td>\n",
       "      <td>360.0</td>\n",
       "      <td>175</td>\n",
       "      <td>3.15</td>\n",
       "      <td>3.440</td>\n",
       "      <td>17.02</td>\n",
       "      <td>0</td>\n",
       "      <td>0</td>\n",
       "      <td>3</td>\n",
       "      <td>2</td>\n",
       "    </tr>\n",
       "  </tbody>\n",
       "</table>\n",
       "</div>"
      ],
      "text/plain": [
       "               model   mpg  cyl   disp   hp  drat     wt   qsec  vs  am  gear  \\\n",
       "0          Mazda RX4  21.0    6  160.0  110  3.90  2.620  16.46   0   1     4   \n",
       "1      Mazda RX4 Wag  21.0    6  160.0  110  3.90  2.875  17.02   0   1     4   \n",
       "2         Datsun 710  22.8    4  108.0   93  3.85  2.320  18.61   1   1     4   \n",
       "3     Hornet 4 Drive  21.4    6  258.0  110  3.08  3.215  19.44   1   0     3   \n",
       "4  Hornet Sportabout  18.7    8  360.0  175  3.15  3.440  17.02   0   0     3   \n",
       "\n",
       "   carb  \n",
       "0     4  \n",
       "1     4  \n",
       "2     1  \n",
       "3     1  \n",
       "4     2  "
      ]
     },
     "execution_count": 59,
     "metadata": {},
     "output_type": "execute_result"
    }
   ],
   "source": [
    "import pandas as pd \n",
    "import statsmodels.api as sm\n",
    "import numpy as np\n",
    "\n",
    "data = pd.read_excel(r\"C:\\Users\\AgJo413\\Documents\\GitHub\\Lab_std\\labstds\\Data\\Motor Trend Car Road Tests.xlsx\")\n",
    "data.head()"
   ]
  },
  {
   "cell_type": "code",
   "execution_count": 60,
   "id": "bf63bd24",
   "metadata": {},
   "outputs": [],
   "source": [
    "X = data[\"hp\"].to_frame()\n",
    "y = data[\"mpg\"].to_frame()"
   ]
  },
  {
   "cell_type": "code",
   "execution_count": 61,
   "id": "ebc7a7e6",
   "metadata": {},
   "outputs": [
    {
     "name": "stdout",
     "output_type": "stream",
     "text": [
      "b0 (intercept): 30.0989, SE: 1.6339, 95% CI: (26.761948787045345, 33.43577229219968)\n",
      "b1 (slope):     -0.0682, SE: 0.0101, 95% CI: (-0.08889465352053424, -0.0475619026225931)\n"
     ]
    },
    {
     "name": "stderr",
     "output_type": "stream",
     "text": [
      "C:\\Users\\AgJo413\\AppData\\Local\\Temp\\ipykernel_21748\\4026295705.py:8: FutureWarning: Series.__getitem__ treating keys as positions is deprecated. In a future version, integer keys will always be treated as labels (consistent with DataFrame behavior). To access a value by position, use `ser.iloc[pos]`\n",
      "  print(f\"b0 (intercept): {b0:.4f}, SE: {se_b0:.4f}, 95% CI: {tuple([ci[0][0], ci[1][0]])}\")\n",
      "C:\\Users\\AgJo413\\AppData\\Local\\Temp\\ipykernel_21748\\4026295705.py:9: FutureWarning: Series.__getitem__ treating keys as positions is deprecated. In a future version, integer keys will always be treated as labels (consistent with DataFrame behavior). To access a value by position, use `ser.iloc[pos]`\n",
      "  print(f\"b1 (slope):     {b1:.4f}, SE: {se_b1:.4f}, 95% CI: {tuple([ci[0][1], ci[1][1]])}\")\n"
     ]
    }
   ],
   "source": [
    "\n",
    "X = sm.add_constant(X)\n",
    "model = sm.OLS(y, X).fit()\n",
    "\n",
    "b0, b1 = model.params\n",
    "se_b0, se_b1 = model.bse\n",
    "ci = model.conf_int()\n",
    "\n",
    "print(f\"b0 (intercept): {b0:.4f}, SE: {se_b0:.4f}, 95% CI: {tuple([ci[0][0], ci[1][0]])}\")\n",
    "print(f\"b1 (slope):     {b1:.4f}, SE: {se_b1:.4f}, 95% CI: {tuple([ci[0][1], ci[1][1]])}\")\n"
   ]
  },
  {
   "cell_type": "markdown",
   "id": "78105191",
   "metadata": {},
   "source": [
    "The problem with this is that we imply colinearity, homoscedasticity and normality of errors in a linear regression. \n",
    "\n",
    "Since we don't have those characteristics, we cannot get real standard errors, since it's not standard.\n",
    "\n",
    "To solve this problem we can iterate n times the dataset with different samples with replacement (reusing the original dataset every single time), this is bootstraping. And with this how we can get an standard deviation for the n iterations of each coefficient."
   ]
  },
  {
   "cell_type": "markdown",
   "id": "b2f74422",
   "metadata": {},
   "source": [
    "## Adding bootstraping\n",
    "\n",
    "Making 1000 samples each one with a linear regression, let's try to see the average values of the coefficients"
   ]
  },
  {
   "cell_type": "code",
   "execution_count": 62,
   "id": "f29f4cc4",
   "metadata": {},
   "outputs": [
    {
     "name": "stdout",
     "output_type": "stream",
     "text": [
      "B0 with bootstrap has an average value of 30.34359740641572 with an standard deviation of 2.066784257126383\n",
      "B1 with bootstrap has an average value of -0.07028635898121452 with an standard deviation of 0.013862416577639668\n"
     ]
    }
   ],
   "source": [
    "bootstrap_samples = 1000\n",
    "coeff = [[], []]\n",
    "n = len(data)\n",
    "\n",
    "for _ in range(bootstrap_samples):\n",
    "    sample_indices = np.random.choice(n, size=n, replace=True)\n",
    "    sample = data.iloc[sample_indices]\n",
    "\n",
    "    X_boot = sm.add_constant(sample[\"hp\"])\n",
    "    y_boot = sample[\"mpg\"]\n",
    "\n",
    "    model_boot = sm.OLS(y_boot, X_boot).fit()\n",
    "    b0_boot, b1_boot = model_boot.params\n",
    "\n",
    "    coeff[0].append(b0_boot)\n",
    "    coeff[1].append(b1_boot)\n",
    "\n",
    "print(\"B0 with bootstrap has an average value of {} with an standard deviation of {}\".format(np.mean(coeff[0]), np.std(coeff[0])))\n",
    "print(\"B1 with bootstrap has an average value of {} with an standard deviation of {}\".format(np.mean(coeff[1]), np.std(coeff[1])))"
   ]
  },
  {
   "cell_type": "markdown",
   "id": "61d4a507",
   "metadata": {},
   "source": [
    "## Aggregating \n",
    "\n",
    "Aggregating is enssambling models, which is choosing different models, where each one of them has different selection of features out of the original set of features. This is what Random Forest does within each tree in order to have a more effective prediction. \n",
    "\n",
    "## Bagging\n",
    "\n",
    "Bagging is the combination of aggregating and bootstraping. \n",
    "\n",
    "Let's develop a linear regression using bootstrap of 1000 samples and aggregating choosing models with 4 out of the whole features. \n",
    "\n",
    "We'll use the Advertising dataset, where our main model is: \n",
    "\n",
    "$$\\hat{y} = \\beta_0 + \\beta_1 \\text{TV} + \\beta_2 \\text{Radio} + \\beta_3 \\text{Newspaper} + \\beta_4 \\text{TV}\\text{Radio} + \\beta_5 \\text{TV}\\text{Newspaper} + \\beta_6 \\text{Radio}\\text{Newspaper}$$"
   ]
  },
  {
   "cell_type": "code",
   "execution_count": 63,
   "id": "902ba7ee",
   "metadata": {},
   "outputs": [
    {
     "data": {
      "text/html": [
       "<div>\n",
       "<style scoped>\n",
       "    .dataframe tbody tr th:only-of-type {\n",
       "        vertical-align: middle;\n",
       "    }\n",
       "\n",
       "    .dataframe tbody tr th {\n",
       "        vertical-align: top;\n",
       "    }\n",
       "\n",
       "    .dataframe thead th {\n",
       "        text-align: right;\n",
       "    }\n",
       "</style>\n",
       "<table border=\"1\" class=\"dataframe\">\n",
       "  <thead>\n",
       "    <tr style=\"text-align: right;\">\n",
       "      <th></th>\n",
       "      <th>Unnamed: 0</th>\n",
       "      <th>TV</th>\n",
       "      <th>radio</th>\n",
       "      <th>newspaper</th>\n",
       "      <th>sales</th>\n",
       "    </tr>\n",
       "  </thead>\n",
       "  <tbody>\n",
       "    <tr>\n",
       "      <th>0</th>\n",
       "      <td>1</td>\n",
       "      <td>230.1</td>\n",
       "      <td>37.8</td>\n",
       "      <td>69.2</td>\n",
       "      <td>22.1</td>\n",
       "    </tr>\n",
       "    <tr>\n",
       "      <th>1</th>\n",
       "      <td>2</td>\n",
       "      <td>44.5</td>\n",
       "      <td>39.3</td>\n",
       "      <td>45.1</td>\n",
       "      <td>10.4</td>\n",
       "    </tr>\n",
       "    <tr>\n",
       "      <th>2</th>\n",
       "      <td>3</td>\n",
       "      <td>17.2</td>\n",
       "      <td>45.9</td>\n",
       "      <td>69.3</td>\n",
       "      <td>9.3</td>\n",
       "    </tr>\n",
       "    <tr>\n",
       "      <th>3</th>\n",
       "      <td>4</td>\n",
       "      <td>151.5</td>\n",
       "      <td>41.3</td>\n",
       "      <td>58.5</td>\n",
       "      <td>18.5</td>\n",
       "    </tr>\n",
       "    <tr>\n",
       "      <th>4</th>\n",
       "      <td>5</td>\n",
       "      <td>180.8</td>\n",
       "      <td>10.8</td>\n",
       "      <td>58.4</td>\n",
       "      <td>12.9</td>\n",
       "    </tr>\n",
       "  </tbody>\n",
       "</table>\n",
       "</div>"
      ],
      "text/plain": [
       "   Unnamed: 0     TV  radio  newspaper  sales\n",
       "0           1  230.1   37.8       69.2   22.1\n",
       "1           2   44.5   39.3       45.1   10.4\n",
       "2           3   17.2   45.9       69.3    9.3\n",
       "3           4  151.5   41.3       58.5   18.5\n",
       "4           5  180.8   10.8       58.4   12.9"
      ]
     },
     "execution_count": 63,
     "metadata": {},
     "output_type": "execute_result"
    }
   ],
   "source": [
    "from sklearn.linear_model import LinearRegression\n",
    "from sklearn.metrics import r2_score\n",
    "\n",
    "data = pd.read_csv(r\"C:\\Users\\AgJo413\\Documents\\GitHub\\Lab_std\\labstds\\Data\\Advertising.csv\")\n",
    "\n",
    "data.head()\n",
    "\n"
   ]
  },
  {
   "cell_type": "code",
   "execution_count": 64,
   "id": "fa3ac895",
   "metadata": {},
   "outputs": [],
   "source": [
    "\n",
    "\n",
    "data['TV_radio'] = data['TV'] * data['radio']\n",
    "data['TV_newspaper'] = data['TV'] * data['newspaper']\n",
    "data['radio_newspaper'] = data['radio'] * data['newspaper']\n",
    "\n",
    "X = [\"TV\", \"radio\", \"newspaper\", \"TV_radio\", \"TV_newspaper\", \"radio_newspaper\"]\n",
    "y = [\"sales\"]"
   ]
  },
  {
   "cell_type": "code",
   "execution_count": 65,
   "id": "1888715b",
   "metadata": {},
   "outputs": [],
   "source": [
    "def pred(dataset, features, target, samples, n_features):\n",
    "    predictions = []\n",
    "    for _ in range(samples):\n",
    "        agg_features = np.random.choice(features, size=n_features, replace=False)\n",
    "        sample_indices = np.random.choice(len(dataset), size=len(dataset), replace=True)\n",
    "        sample = dataset.iloc[sample_indices, :]\n",
    "\n",
    "        X_boot = sample[agg_features]\n",
    "        y_boot = sample[target]\n",
    "\n",
    "        model = LinearRegression()\n",
    "        model.fit(X_boot, y_boot)\n",
    "\n",
    "        predictions.append(model.predict(dataset[agg_features]))  # Predict on original dataset for consistency\n",
    "\n",
    "    mean_prediction = np.mean(predictions, axis=0)\n",
    "    return mean_prediction, r2_score(dataset[target], mean_prediction)\n",
    "\n",
    "    "
   ]
  },
  {
   "cell_type": "code",
   "execution_count": 66,
   "id": "d718878e",
   "metadata": {},
   "outputs": [],
   "source": [
    "ypred, r2 = pred(data, X, y, 1000, 4)"
   ]
  },
  {
   "cell_type": "code",
   "execution_count": null,
   "id": "6f8f894f",
   "metadata": {},
   "outputs": [
    {
     "name": "stdout",
     "output_type": "stream",
     "text": [
      "The resulting prediction has a r2 score of: 0.962371650369106\n"
     ]
    },
    {
     "data": {
      "image/png": "[encoded data removed]",
      "text/plain": [
       "<Figure size 640x480 with 1 Axes>"
      ]
     },
     "metadata": {},
     "output_type": "display_data"
    },
    {
     "ename": "",
     "evalue": "",
     "output_type": "error",
     "traceback": [
      "\u001b[1;31mThe Kernel crashed while executing code in the current cell or a previous cell. \n",
      "\u001b[1;31mPlease review the code in the cell(s) to identify a possible cause of the failure. \n",
      "\u001b[1;31mClick <a href='https://aka.ms/vscodeJupyterKernelCrash'>here</a> for more info. \n",
      "\u001b[1;31mView Jupyter <a href='command:jupyter.viewOutput'>log</a> for further details."
     ]
    }
   ],
   "source": [
    "import matplotlib.pyplot as plt\n",
    "\n",
    "print(\"The resulting prediction has a r2 score of: {}\".format(r2))\n",
    "\n",
    "plt.scatter(data[\"sales\"], ypred, color='blue', label='Predicted vs Actual')\n",
    "plt.xlabel(\"Actual Sales\")\n",
    "plt.ylabel(\"Predicted Sales\")\n",
    "plt.plot([data[\"sales\"].min(), data[\"sales\"].max()],\n",
    "         [data[\"sales\"].min(), data[\"sales\"].max()],\n",
    "         color='red', linestyle='--', label='Ideal Fit')\n",
    "plt.title('Actual vs Predicted Sales')\n",
    "plt.legend()\n",
    "plt.show()"
   ]
  }
 ],
 "metadata": {
  "kernelspec": {
   "display_name": "base",
   "language": "python",
   "name": "python3"
  },
  "language_info": {
   "codemirror_mode": {
    "name": "ipython",
    "version": 3
   },
   "file_extension": ".py",
   "mimetype": "text/x-python",
   "name": "python",
   "nbconvert_exporter": "python",
   "pygments_lexer": "ipython3",
   "version": "3.11.11"
  }
 },
 "nbformat": 4,
 "nbformat_minor": 5
}
