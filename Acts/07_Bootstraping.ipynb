{
 "cells": [
  {
   "cell_type": "markdown",
   "id": "7870d949",
   "metadata": {},
   "source": [
    "# Bootstrap"
   ]
  },
  {
   "cell_type": "markdown",
   "id": "05a4fa15",
   "metadata": {},
   "source": [
    "|                |   |\n",
    ":----------------|---|\n",
    "| **Name**     | Eddie Aguilar  |\n",
    "| **Date**      | 04/10/2025  |\n",
    "| **ID** | 739352  | "
   ]
  },
  {
   "cell_type": "markdown",
   "id": "215b419d",
   "metadata": {},
   "source": [
    "## Normal linear regression"
   ]
  },
  {
   "cell_type": "code",
   "execution_count": 31,
   "id": "c858d918",
   "metadata": {},
   "outputs": [
    {
     "data": {
      "text/html": [
       "<div>\n",
       "<style scoped>\n",
       "    .dataframe tbody tr th:only-of-type {\n",
       "        vertical-align: middle;\n",
       "    }\n",
       "\n",
       "    .dataframe tbody tr th {\n",
       "        vertical-align: top;\n",
       "    }\n",
       "\n",
       "    .dataframe thead th {\n",
       "        text-align: right;\n",
       "    }\n",
       "</style>\n",
       "<table border=\"1\" class=\"dataframe\">\n",
       "  <thead>\n",
       "    <tr style=\"text-align: right;\">\n",
       "      <th></th>\n",
       "      <th>model</th>\n",
       "      <th>mpg</th>\n",
       "      <th>cyl</th>\n",
       "      <th>disp</th>\n",
       "      <th>hp</th>\n",
       "      <th>drat</th>\n",
       "      <th>wt</th>\n",
       "      <th>qsec</th>\n",
       "      <th>vs</th>\n",
       "      <th>am</th>\n",
       "      <th>gear</th>\n",
       "      <th>carb</th>\n",
       "    </tr>\n",
       "  </thead>\n",
       "  <tbody>\n",
       "    <tr>\n",
       "      <th>0</th>\n",
       "      <td>Mazda RX4</td>\n",
       "      <td>21.0</td>\n",
       "      <td>6</td>\n",
       "      <td>160.0</td>\n",
       "      <td>110</td>\n",
       "      <td>3.90</td>\n",
       "      <td>2.620</td>\n",
       "      <td>16.46</td>\n",
       "      <td>0</td>\n",
       "      <td>1</td>\n",
       "      <td>4</td>\n",
       "      <td>4</td>\n",
       "    </tr>\n",
       "    <tr>\n",
       "      <th>1</th>\n",
       "      <td>Mazda RX4 Wag</td>\n",
       "      <td>21.0</td>\n",
       "      <td>6</td>\n",
       "      <td>160.0</td>\n",
       "      <td>110</td>\n",
       "      <td>3.90</td>\n",
       "      <td>2.875</td>\n",
       "      <td>17.02</td>\n",
       "      <td>0</td>\n",
       "      <td>1</td>\n",
       "      <td>4</td>\n",
       "      <td>4</td>\n",
       "    </tr>\n",
       "    <tr>\n",
       "      <th>2</th>\n",
       "      <td>Datsun 710</td>\n",
       "      <td>22.8</td>\n",
       "      <td>4</td>\n",
       "      <td>108.0</td>\n",
       "      <td>93</td>\n",
       "      <td>3.85</td>\n",
       "      <td>2.320</td>\n",
       "      <td>18.61</td>\n",
       "      <td>1</td>\n",
       "      <td>1</td>\n",
       "      <td>4</td>\n",
       "      <td>1</td>\n",
       "    </tr>\n",
       "    <tr>\n",
       "      <th>3</th>\n",
       "      <td>Hornet 4 Drive</td>\n",
       "      <td>21.4</td>\n",
       "      <td>6</td>\n",
       "      <td>258.0</td>\n",
       "      <td>110</td>\n",
       "      <td>3.08</td>\n",
       "      <td>3.215</td>\n",
       "      <td>19.44</td>\n",
       "      <td>1</td>\n",
       "      <td>0</td>\n",
       "      <td>3</td>\n",
       "      <td>1</td>\n",
       "    </tr>\n",
       "    <tr>\n",
       "      <th>4</th>\n",
       "      <td>Hornet Sportabout</td>\n",
       "      <td>18.7</td>\n",
       "      <td>8</td>\n",
       "      <td>360.0</td>\n",
       "      <td>175</td>\n",
       "      <td>3.15</td>\n",
       "      <td>3.440</td>\n",
       "      <td>17.02</td>\n",
       "      <td>0</td>\n",
       "      <td>0</td>\n",
       "      <td>3</td>\n",
       "      <td>2</td>\n",
       "    </tr>\n",
       "  </tbody>\n",
       "</table>\n",
       "</div>"
      ],
      "text/plain": [
       "               model   mpg  cyl   disp   hp  ...   qsec  vs  am  gear  carb\n",
       "0          Mazda RX4  21.0    6  160.0  110  ...  16.46   0   1     4     4\n",
       "1      Mazda RX4 Wag  21.0    6  160.0  110  ...  17.02   0   1     4     4\n",
       "2         Datsun 710  22.8    4  108.0   93  ...  18.61   1   1     4     1\n",
       "3     Hornet 4 Drive  21.4    6  258.0  110  ...  19.44   1   0     3     1\n",
       "4  Hornet Sportabout  18.7    8  360.0  175  ...  17.02   0   0     3     2\n",
       "\n",
       "[5 rows x 12 columns]"
      ]
     },
     "execution_count": 31,
     "metadata": {},
     "output_type": "execute_result"
    }
   ],
   "source": [
    "import pandas as pd \n",
    "import statsmodels.api as sm\n",
    "import numpy as np\n",
    "\n",
    "data = pd.read_excel(r\"C:\\Users\\AgJo413\\Documents\\GitHub\\Lab_std\\labstds\\Data\\Motor Trend Car Road Tests.xlsx\")\n",
    "data.head()"
   ]
  },
  {
   "cell_type": "code",
   "execution_count": 32,
   "id": "bf63bd24",
   "metadata": {},
   "outputs": [],
   "source": [
    "X = data[\"hp\"].to_frame()\n",
    "y = data[\"mpg\"].to_frame()"
   ]
  },
  {
   "cell_type": "code",
   "execution_count": 33,
   "id": "ebc7a7e6",
   "metadata": {},
   "outputs": [
    {
     "name": "stdout",
     "output_type": "stream",
     "text": [
      "b0 (intercept): 30.0989, SE: 1.6339, 95% CI: (26.761948787045345, 33.43577229219968)\n",
      "b1 (slope):     -0.0682, SE: 0.0101, 95% CI: (-0.08889465352053424, -0.0475619026225931)\n"
     ]
    },
    {
     "name": "stderr",
     "output_type": "stream",
     "text": [
      "C:\\Users\\AgJo413\\AppData\\Local\\Temp\\ipykernel_3812\\4026295705.py:8: FutureWarning: Series.__getitem__ treating keys as positions is deprecated. In a future version, integer keys will always be treated as labels (consistent with DataFrame behavior). To access a value by position, use `ser.iloc[pos]`\n",
      "  print(f\"b0 (intercept): {b0:.4f}, SE: {se_b0:.4f}, 95% CI: {tuple([ci[0][0], ci[1][0]])}\")\n",
      "C:\\Users\\AgJo413\\AppData\\Local\\Temp\\ipykernel_3812\\4026295705.py:9: FutureWarning: Series.__getitem__ treating keys as positions is deprecated. In a future version, integer keys will always be treated as labels (consistent with DataFrame behavior). To access a value by position, use `ser.iloc[pos]`\n",
      "  print(f\"b1 (slope):     {b1:.4f}, SE: {se_b1:.4f}, 95% CI: {tuple([ci[0][1], ci[1][1]])}\")\n"
     ]
    }
   ],
   "source": [
    "\n",
    "X = sm.add_constant(X)\n",
    "model = sm.OLS(y, X).fit()\n",
    "\n",
    "b0, b1 = model.params\n",
    "se_b0, se_b1 = model.bse\n",
    "ci = model.conf_int()\n",
    "\n",
    "print(f\"b0 (intercept): {b0:.4f}, SE: {se_b0:.4f}, 95% CI: {tuple([ci[0][0], ci[1][0]])}\")\n",
    "print(f\"b1 (slope):     {b1:.4f}, SE: {se_b1:.4f}, 95% CI: {tuple([ci[0][1], ci[1][1]])}\")\n"
   ]
  },
  {
   "cell_type": "markdown",
   "id": "78105191",
   "metadata": {},
   "source": [
    "The problem with this is that we imply colinearity, homoscedasticity or normality of errors in a linear regression. \n",
    "\n",
    "Since we don't have those characteristics, we cannot get real standard errors, since it's not standard.\n",
    "\n",
    "To solve this problem we can iterate n times the dataset with different samples with replacement (reusing the original dataset every single time), this is bootstraping. And with this we can get an standard deviation for the n iterations of each coefficient."
   ]
  },
  {
   "cell_type": "markdown",
   "id": "b2f74422",
   "metadata": {},
   "source": [
    "## Adding bootstraping\n",
    "\n",
    "Making 1000 samples each one with a linear regression, let's try to see the average values of the coefficients"
   ]
  },
  {
   "cell_type": "code",
   "execution_count": 34,
   "id": "f29f4cc4",
   "metadata": {},
   "outputs": [
    {
     "name": "stdout",
     "output_type": "stream",
     "text": [
      "B0 with bootstrap has an average value of 30.23745378673228 with an standard deviation of 2.1759794203850187\n",
      "B1 with bootstrap has an average value of -0.06997780126201776 with an standard deviation of 0.0143042615876058\n"
     ]
    }
   ],
   "source": [
    "bootstrap_samples = 1000\n",
    "coeff = [[], []]\n",
    "n = len(data)\n",
    "\n",
    "for _ in range(bootstrap_samples):\n",
    "    sample_indices = np.random.choice(n, size=n, replace=True)\n",
    "    sample = data.iloc[sample_indices]\n",
    "\n",
    "    X_boot = sm.add_constant(sample[\"hp\"])\n",
    "    y_boot = sample[\"mpg\"]\n",
    "\n",
    "    model_boot = sm.OLS(y_boot, X_boot).fit()\n",
    "    b0_boot, b1_boot = model_boot.params\n",
    "\n",
    "    coeff[0].append(b0_boot)\n",
    "    coeff[1].append(b1_boot)\n",
    "\n",
    "print(\"B0 with bootstrap has an average value of {} with an standard deviation of {}\".format(np.mean(coeff[0]), np.std(coeff[0])))\n",
    "print(\"B1 with bootstrap has an average value of {} with an standard deviation of {}\".format(np.mean(coeff[1]), np.std(coeff[1])))"
   ]
  },
  {
   "cell_type": "markdown",
   "id": "61d4a507",
   "metadata": {},
   "source": [
    "## Aggregating \n",
    "\n",
    "Aggregating is enssambling models, which is choosing different models, where each one of them has different selection of features out of the original set of features. This is what Random Forest does within each tree in order to have a more effective prediction. \n",
    "\n",
    "## Bagging\n",
    "\n",
    "Bagging is the combination of aggregating and bootstraping. \n",
    "\n",
    "Let's develop a linear regression using bootstrap of 1000 samples and aggregating choosing models with 4 out of the whole features. \n",
    "\n",
    "We'll use the Advertising dataset, where our main model is: \n",
    "\n",
    "$$\\hat{y} = \\beta_0 + \\beta_1 \\text{TV} + \\beta_2 \\text{Radio} + \\beta_3 \\text{Newspaper} + \\beta_4 \\text{TV}\\text{Radio} + \\beta_5 \\text{TV}\\text{Newspaper} + \\beta_6 \\text{Radio}\\text{Newspaper}$$"
   ]
  },
  {
   "cell_type": "code",
   "execution_count": 35,
   "id": "902ba7ee",
   "metadata": {},
   "outputs": [
    {
     "data": {
      "text/html": [
       "<div>\n",
       "<style scoped>\n",
       "    .dataframe tbody tr th:only-of-type {\n",
       "        vertical-align: middle;\n",
       "    }\n",
       "\n",
       "    .dataframe tbody tr th {\n",
       "        vertical-align: top;\n",
       "    }\n",
       "\n",
       "    .dataframe thead th {\n",
       "        text-align: right;\n",
       "    }\n",
       "</style>\n",
       "<table border=\"1\" class=\"dataframe\">\n",
       "  <thead>\n",
       "    <tr style=\"text-align: right;\">\n",
       "      <th></th>\n",
       "      <th>Unnamed: 0</th>\n",
       "      <th>TV</th>\n",
       "      <th>radio</th>\n",
       "      <th>newspaper</th>\n",
       "      <th>sales</th>\n",
       "    </tr>\n",
       "  </thead>\n",
       "  <tbody>\n",
       "    <tr>\n",
       "      <th>0</th>\n",
       "      <td>1</td>\n",
       "      <td>230.1</td>\n",
       "      <td>37.8</td>\n",
       "      <td>69.2</td>\n",
       "      <td>22.1</td>\n",
       "    </tr>\n",
       "    <tr>\n",
       "      <th>1</th>\n",
       "      <td>2</td>\n",
       "      <td>44.5</td>\n",
       "      <td>39.3</td>\n",
       "      <td>45.1</td>\n",
       "      <td>10.4</td>\n",
       "    </tr>\n",
       "    <tr>\n",
       "      <th>2</th>\n",
       "      <td>3</td>\n",
       "      <td>17.2</td>\n",
       "      <td>45.9</td>\n",
       "      <td>69.3</td>\n",
       "      <td>9.3</td>\n",
       "    </tr>\n",
       "    <tr>\n",
       "      <th>3</th>\n",
       "      <td>4</td>\n",
       "      <td>151.5</td>\n",
       "      <td>41.3</td>\n",
       "      <td>58.5</td>\n",
       "      <td>18.5</td>\n",
       "    </tr>\n",
       "    <tr>\n",
       "      <th>4</th>\n",
       "      <td>5</td>\n",
       "      <td>180.8</td>\n",
       "      <td>10.8</td>\n",
       "      <td>58.4</td>\n",
       "      <td>12.9</td>\n",
       "    </tr>\n",
       "  </tbody>\n",
       "</table>\n",
       "</div>"
      ],
      "text/plain": [
       "   Unnamed: 0     TV  radio  newspaper  sales\n",
       "0           1  230.1   37.8       69.2   22.1\n",
       "1           2   44.5   39.3       45.1   10.4\n",
       "2           3   17.2   45.9       69.3    9.3\n",
       "3           4  151.5   41.3       58.5   18.5\n",
       "4           5  180.8   10.8       58.4   12.9"
      ]
     },
     "execution_count": 35,
     "metadata": {},
     "output_type": "execute_result"
    }
   ],
   "source": [
    "from sklearn.linear_model import LinearRegression\n",
    "from sklearn.metrics import r2_score\n",
    "\n",
    "data = pd.read_csv(r\"C:\\Users\\AgJo413\\Documents\\GitHub\\Lab_std\\labstds\\Data\\Advertising.csv\")\n",
    "\n",
    "data.head()\n",
    "\n"
   ]
  },
  {
   "cell_type": "code",
   "execution_count": 36,
   "id": "fa3ac895",
   "metadata": {},
   "outputs": [],
   "source": [
    "\n",
    "\n",
    "data['TV_radio'] = data['TV'] * data['radio']\n",
    "data['TV_newspaper'] = data['TV'] * data['newspaper']\n",
    "data['radio_newspaper'] = data['radio'] * data['newspaper']\n",
    "\n",
    "X = [\"TV\", \"radio\", \"newspaper\", \"TV_radio\", \"TV_newspaper\", \"radio_newspaper\"]\n",
    "y = [\"sales\"]"
   ]
  },
  {
   "cell_type": "code",
   "execution_count": 40,
   "id": "1888715b",
   "metadata": {},
   "outputs": [],
   "source": [
    "def pred(dataset, features, target, samples, n_features):\n",
    "    \n",
    "    predictions = []\n",
    "    for _ in range(samples):\n",
    "        agg_features = np.random.choice(features, size = n_features, replace=False)\n",
    "        sample_indices = np.random.choice(range(len(dataset)), size=len(dataset), replace=True)\n",
    "        sample = data.iloc[sample_indices, :]\n",
    "\n",
    "        \n",
    "        X_boot = sample[agg_features]\n",
    "        y_boot = sample[target]\n",
    "        \n",
    "        model = LinearRegression()\n",
    "        \n",
    "        model.fit(X_boot, y_boot)\n",
    "        predictions.append(model.predict(X_boot))\n",
    "        \n",
    "    mean_prediction = np.mean(predictions, axis=0)\n",
    "\n",
    "    return mean_prediction, r2_score(dataset[target], mean_prediction)\n",
    "    "
   ]
  },
  {
   "cell_type": "code",
   "execution_count": 41,
   "id": "d718878e",
   "metadata": {},
   "outputs": [],
   "source": [
    "ypred, r2 = pred(data, X, y, 1000, 4)"
   ]
  },
  {
   "cell_type": "code",
   "execution_count": 42,
   "id": "6f8f894f",
   "metadata": {},
   "outputs": [
    {
     "name": "stdout",
     "output_type": "stream",
     "text": [
      "The resulting prediction has a r2 score of: -0.0003697811366347725\n"
     ]
    },
    {
     "data": {
      "image/png": "[encoded data removed]",
      "text/plain": [
       "<Figure size 640x480 with 1 Axes>"
      ]
     },
     "metadata": {},
     "output_type": "display_data"
    }
   ],
   "source": [
    "import matplotlib.pyplot as plt\n",
    "\n",
    "print(\"The resulting prediction has a r2 score of: {}\".format(r2))\n",
    "\n",
    "plt.scatter(data[\"Unnamed: 0\"], data[\"sales\"], color='blue', label='Predicted vs Actual')\n",
    "plt.plot(data[\"Unnamed: 0\"], ypred)\n",
    "plt.title('Actual vs Predicted Sales')\n",
    "plt.legend()\n",
    "plt.show()"
   ]
  },
  {
   "cell_type": "code",
   "execution_count": null,
   "id": "c3b2bcb1",
   "metadata": {},
   "outputs": [
    {
     "name": "stdout",
     "output_type": "stream",
     "text": [
      "     newspaper  TV_radio     TV  radio\n",
      "127        9.2      0.00   80.2    0.0\n",
      "160       30.7   3122.25  172.5   18.1\n",
      "154        9.5   3962.58  187.8   21.1\n",
      "24        18.3    784.98   62.3   12.6\n",
      "74        13.1   5249.64  213.4   24.6\n",
      "..         ...       ...    ...    ...\n",
      "186       26.6    292.95  139.5    2.1\n",
      "131       43.0    769.08  265.2    2.9\n",
      "106       29.7    275.00   25.0   11.0\n",
      "197        6.4   1646.10  177.0    9.3\n",
      "183       71.8  12366.80  287.6   43.0\n",
      "\n",
      "[200 rows x 4 columns]      sales\n",
      "127    8.8\n",
      "160   14.4\n",
      "154   15.6\n",
      "24     9.7\n",
      "74    17.0\n",
      "..     ...\n",
      "186   10.3\n",
      "131   12.7\n",
      "106    7.2\n",
      "197   12.8\n",
      "183   26.2\n",
      "\n",
      "[200 rows x 1 columns]\n"
     ]
    }
   ],
   "source": [
    "samples = 1\n",
    "dataset = data\n",
    "features = X\n",
    "target = y\n",
    "n_features = 4\n",
    "predictions = []\n",
    "for _ in range(samples):\n",
    "    agg_features = np.random.choice(features, size = n_features, replace=False)\n",
    "    sample_indices = np.random.choice(range(len(dataset)), size=len(dataset), replace=True)\n",
    "    sample = data.iloc[sample_indices, :]\n",
    "    \n",
    "    X_boot = sample[agg_features]\n",
    "    y_boot = sample[target]\n",
    "    \n",
    "    model = LinearRegression()\n",
    "    \n",
    "    model.fit(X_boot, y_boot)\n",
    "    \n",
    "    predictions.append(model.predict(X_boot))\n",
    "    \n",
    "\n",
    "mean_prediction = np.mean(predictions, axis=0)"
   ]
  }
 ],
 "metadata": {
  "kernelspec": {
   "display_name": "base",
   "language": "python",
   "name": "python3"
  },
  "language_info": {
   "codemirror_mode": {
    "name": "ipython",
    "version": 3
   },
   "file_extension": ".py",
   "mimetype": "text/x-python",
   "name": "python",
   "nbconvert_exporter": "python",
   "pygments_lexer": "ipython3",
   "version": "3.11.11"
  }
 },
 "nbformat": 4,
 "nbformat_minor": 5
}
